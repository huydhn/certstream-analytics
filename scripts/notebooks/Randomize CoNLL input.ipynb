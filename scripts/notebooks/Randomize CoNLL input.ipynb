{
 "cells": [
  {
   "cell_type": "code",
   "execution_count": 41,
   "metadata": {},
   "outputs": [],
   "source": [
    "import random\n",
    "import re\n",
    "\n",
    "domain_regex = re.compile(r'^# text = (.+)$')\n",
    "\n",
    "seen = set()\n",
    "records = []\n",
    "\n",
    "with open(\"conll.txt\") as f:\n",
    "    r = []\n",
    "    \n",
    "    duplicate = False\n",
    "    for line in f:\n",
    "        if line[0] == '#':\n",
    "            matched = re.match(domain_regex, line)\n",
    "            domain = matched[1]\n",
    "            duplicate = (domain in seen)\n",
    "            \n",
    "            if domain not in seen:                \n",
    "                seen.add(domain)                \n",
    "                if r:\n",
    "                    records.append(r)           \n",
    "            \n",
    "            r = []\n",
    "            \n",
    "        if not duplicate:\n",
    "            r.append(line)"
   ]
  },
  {
   "cell_type": "code",
   "execution_count": 42,
   "metadata": {
    "scrolled": false
   },
   "outputs": [],
   "source": [
    "with open(\"conll-unique.txt\", 'w') as f:\n",
    "    for record in records:\n",
    "        for line in record:\n",
    "            if line[0] == '#' or line[0] == '\\n':\n",
    "                f.write(line)\n",
    "            else:\n",
    "                fields = line.split('\\t')\n",
    "                print(f'{fields[1]}\\t{fields[3]}', file=f)"
   ]
  },
  {
   "cell_type": "code",
   "execution_count": null,
   "metadata": {},
   "outputs": [],
   "source": []
  }
 ],
 "metadata": {
  "kernelspec": {
   "display_name": "Python 3",
   "language": "python",
   "name": "python3"
  },
  "language_info": {
   "codemirror_mode": {
    "name": "ipython",
    "version": 3
   },
   "file_extension": ".py",
   "mimetype": "text/x-python",
   "name": "python",
   "nbconvert_exporter": "python",
   "pygments_lexer": "ipython3",
   "version": "3.7.5"
  }
 },
 "nbformat": 4,
 "nbformat_minor": 2
}
